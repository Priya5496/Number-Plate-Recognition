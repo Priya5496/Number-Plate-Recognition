{
 "cells": [
  {
   "cell_type": "markdown",
   "id": "f8572fc9",
   "metadata": {},
   "source": [
    "# IMPORTING THE NECESSARY MODULES"
   ]
  },
  {
   "cell_type": "code",
   "execution_count": null,
   "id": "086de34a",
   "metadata": {},
   "outputs": [],
   "source": [
    "import torch"
   ]
  },
  {
   "cell_type": "code",
   "execution_count": 4,
   "id": "2e47ba17",
   "metadata": {},
   "outputs": [],
   "source": [
    "import numpy"
   ]
  },
  {
   "cell_type": "code",
   "execution_count": null,
   "id": "2cc5a3a8",
   "metadata": {},
   "outputs": [],
   "source": [
    "import cv2"
   ]
  },
  {
   "cell_type": "code",
   "execution_count": null,
   "id": "b34a9fda",
   "metadata": {},
   "outputs": [],
   "source": [
    "import os"
   ]
  },
  {
   "cell_type": "markdown",
   "id": "d9edd005",
   "metadata": {},
   "source": [
    "# CLONING INTO YOLOv5 REPOSITORY"
   ]
  },
  {
   "cell_type": "code",
   "execution_count": 5,
   "id": "4dd9c378",
   "metadata": {},
   "outputs": [],
   "source": [
    "#!git clone https://github.com/ultralytics/yolov5"
   ]
  },
  {
   "cell_type": "markdown",
   "id": "5d649182",
   "metadata": {},
   "source": [
    "# DATASETS TAKEN FROM KAGGLE"
   ]
  },
  {
   "cell_type": "code",
   "execution_count": 1,
   "id": "896d5a75",
   "metadata": {},
   "outputs": [],
   "source": [
    "#indian number plate dataset and car plate detection"
   ]
  },
  {
   "cell_type": "markdown",
   "id": "09aec61b",
   "metadata": {},
   "source": [
    "# PREPROCESSING"
   ]
  },
  {
   "cell_type": "code",
   "execution_count": null,
   "id": "a3305d0f",
   "metadata": {},
   "outputs": [],
   "source": [
    "def resize_images(input_folder, output_folder, target_size):\n",
    "    os.makedirs(output_folder, exist_ok=True)\n",
    "    for filename in os.listdir(input_folder):\n",
    "        img_path = os.path.join(input_folder, filename)\n",
    "        img = cv2.imread(img_path)\n",
    "        resized_img = cv2.resize(img, target_size)\n",
    "        output_path = os.path.join(output_folder, filename)\n",
    "        cv2.imwrite(output_path, resized_img)\n"
   ]
  },
  {
   "cell_type": "code",
   "execution_count": null,
   "id": "ec517a50",
   "metadata": {},
   "outputs": [],
   "source": [
    "resize_images('C:/Users/welcome/Desktop/all/number_plate_images_ocr', 'C:/Users/welcome/Desktop/all/number_plate_images_ocr', (416, 416))"
   ]
  },
  {
   "cell_type": "code",
   "execution_count": null,
   "id": "d26cd89c",
   "metadata": {},
   "outputs": [],
   "source": [
    "#SPLITTING DATA INTO TRANING AND VALIDATION"
   ]
  },
  {
   "cell_type": "code",
   "execution_count": null,
   "id": "a3476bc7",
   "metadata": {},
   "outputs": [],
   "source": [
    "training_imgpath=\"C:/Users/welcome/Desktop/yolov5-master/yolov5/dataset/images/train\"\n",
    "validation_imgpath=\"C:/Users/welcome/Desktop/yolov5-master/yolov5/dataset/images/val\""
   ]
  },
  {
   "cell_type": "markdown",
   "id": "b89b6662",
   "metadata": {},
   "source": [
    "# ANNOTATIONS\n"
   ]
  },
  {
   "cell_type": "markdown",
   "id": "0e7784c0",
   "metadata": {},
   "source": [
    "# Annotaions are done by using labelImg and results are taken in text file (yolo form)"
   ]
  },
  {
   "cell_type": "code",
   "execution_count": null,
   "id": "39ebf7fe",
   "metadata": {},
   "outputs": [],
   "source": [
    "training_lblpath=\"C:/Users/welcome/Desktop/yolov5-master/yolov5/dataset/labels/train\"\n",
    "validation_lblpath=\"C:/Users/welcome/Desktop/yolov5-master/yolov5/dataset/labels/val\""
   ]
  },
  {
   "cell_type": "markdown",
   "id": "6c9347bb",
   "metadata": {},
   "source": [
    "# MODEL TRAINING AND VALIDATING"
   ]
  },
  {
   "cell_type": "code",
   "execution_count": null,
   "id": "fb7eb965",
   "metadata": {},
   "outputs": [],
   "source": [
    "#python train.py --img 416 --batch 16 --epochs 50 --data dataset.yaml --weights yolov5s.pt"
   ]
  },
  {
   "cell_type": "code",
   "execution_count": null,
   "id": "14500d24",
   "metadata": {},
   "outputs": [],
   "source": [
    "#python train.py --img 416 --batch 16 --epochs 50 --data dataset.yaml --weights yolov5n.pt"
   ]
  },
  {
   "cell_type": "code",
   "execution_count": null,
   "id": "a68d96b8",
   "metadata": {},
   "outputs": [],
   "source": [
    "#python train.py --img 416 --batch 16 --epochs 50 --data dataset.yaml --weights yolov5m.pt"
   ]
  },
  {
   "cell_type": "markdown",
   "id": "4c1a6169",
   "metadata": {},
   "source": [
    "# YOLOv5m got the high accuracy than so I am using yolov5m for testing the data"
   ]
  },
  {
   "cell_type": "markdown",
   "id": "56385c2d",
   "metadata": {},
   "source": [
    "# TESTING"
   ]
  },
  {
   "cell_type": "code",
   "execution_count": null,
   "id": "29a45e23",
   "metadata": {},
   "outputs": [],
   "source": [
    "#python detect.py --source C:/Users/welcome/Desktop/dynamic_dataset --weights runs/train/exp35/weights/best.pt"
   ]
  }
 ],
 "metadata": {
  "kernelspec": {
   "display_name": "Python 3 (ipykernel)",
   "language": "python",
   "name": "python3"
  },
  "language_info": {
   "codemirror_mode": {
    "name": "ipython",
    "version": 3
   },
   "file_extension": ".py",
   "mimetype": "text/x-python",
   "name": "python",
   "nbconvert_exporter": "python",
   "pygments_lexer": "ipython3",
   "version": "3.11.5"
  }
 },
 "nbformat": 4,
 "nbformat_minor": 5
}
